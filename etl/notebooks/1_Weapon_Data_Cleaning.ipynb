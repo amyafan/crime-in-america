{
 "cells": [
  {
   "cell_type": "markdown",
   "id": "b3514fe1",
   "metadata": {},
   "source": [
    "Amy Fan 11-2022\n",
    "\n",
    "# Weapons data cleaning"
   ]
  },
  {
   "cell_type": "code",
   "execution_count": 8,
   "id": "f4d9bfe5",
   "metadata": {},
   "outputs": [],
   "source": [
    "import pandas as pd \n",
    "import numpy as np\n",
    "\n",
    "pd.set_option('display.max_rows', None)\n",
    "pd.set_option('display.max_columns', None)\n",
    "\n",
    "source = \"..//..//..//youth-crime//data//source//\"\n",
    "processed = \"..//..//weapons//data//processed//\"\n",
    "manual = \"..//..//..//youth-crime//data//manual//\"\n",
    "\n"
   ]
  },
  {
   "cell_type": "code",
   "execution_count": 5,
   "id": "74a98f5e",
   "metadata": {},
   "outputs": [],
   "source": [
    "start_yr = 2019\n",
    "end_yr = 2021\n",
    "\n",
    "years = list(range(start_yr, end_yr + 1))\n",
    "year_cols = pd.Series(years).apply(lambda x: str(x))\n",
    "\n",
    "####################\n",
    "# PICKING AGENCIES #\n",
    "####################\n",
    "\n",
    "ori_str = processed + \"etl_0_ori_months_reported.parquet\"\n",
    "ori = pd.read_parquet(ori_str, columns = list(year_cols))\n",
    "\n",
    "# this is a bad way to loop but whatever \n",
    "\n",
    "for year in range(start_yr, end_yr+1): \n",
    "    \n",
    "    ori = ori[ori[str(year)]==12]\n",
    "    \n",
    "our_oris = ori.index\n",
    "\n"
   ]
  },
  {
   "cell_type": "code",
   "execution_count": 11,
   "id": "8ca986fd",
   "metadata": {},
   "outputs": [],
   "source": [
    "# okay now let's pull the offense tables for those years\n",
    "\n",
    "firearms = ['handgun', 'firearm (type not stated)', 'rifle', 'shotgun', 'other firearm']\n",
    "\n",
    "def make_weapon_flag(offense_table, weapon):\n",
    "    \n",
    "    column = (offense_table.type_weapon_force_involved_1 == weapon)\n",
    "    column[offense_table.type_weapon_force_involved_2 == weapon] = True\n",
    "    column[offense_table.type_weapon_force_involved_3 == weapon] = True\n",
    "    \n",
    "    return column\n",
    "\n",
    "def clean_offenses_weapons(year):\n",
    "    \n",
    "    offense_cols = ['ori', 'ucr_offense_code'\n",
    "                , 'type_weapon_force_involved_1', 'automatic_weapon_indicator_1'\n",
    "                , 'type_weapon_force_involved_2', 'automatic_weapon_indicator_2'\n",
    "                , 'type_weapon_force_involved_3', 'automatic_weapon_indicator_3'\n",
    "                , 'location_type'\n",
    "                , 'unique_incident_id']\n",
    "    \n",
    "    offense_yr_str = source + \"nibrs_1991_2021_offense_segment_dta//nibrs_offense_segment_\" + str(year) + \".dta\"\n",
    "    offense_yr = pd.read_stata(offense_yr_str, columns = offense_cols)    \n",
    "    \n",
    "    offense_yr_oris = offense_yr[offense_yr.ori.isin(our_oris)]\n",
    "    \n",
    "    all_weapons = offense_yr_oris.type_weapon_force_involved_1.unique()\n",
    "    \n",
    "    for weapon in all_weapons: \n",
    "        \n",
    "        print(weapon)\n",
    "        \n",
    "        offense_yr_oris[weapon] = make_weapon_flag(offense_yr_oris, weapon)\n",
    "    \n",
    "    offense_yr_oris['firearm'] = (offense_yr_oris[firearms].sum(axis=1) >= 1)\n",
    "    \n",
    "    print(offense_yr_oris.head())\n",
    "    \n",
    "    return offense_yr_oris"
   ]
  },
  {
   "cell_type": "code",
   "execution_count": 12,
   "id": "2b604d42",
   "metadata": {
    "scrolled": false
   },
   "outputs": [
    {
     "name": "stdout",
     "output_type": "stream",
     "text": [
      "\n"
     ]
    },
    {
     "name": "stderr",
     "output_type": "stream",
     "text": [
      "/var/folders/cs/6tsmkts96lqgd7z7tz4b521sl4vb6k/T/ipykernel_72347/4013972593.py:33: SettingWithCopyWarning: \n",
      "A value is trying to be set on a copy of a slice from a DataFrame.\n",
      "Try using .loc[row_indexer,col_indexer] = value instead\n",
      "\n",
      "See the caveats in the documentation: https://pandas.pydata.org/pandas-docs/stable/user_guide/indexing.html#returning-a-view-versus-a-copy\n",
      "  offense_yr_oris[weapon] = make_weapon_flag(offense_yr_oris, weapon)\n"
     ]
    },
    {
     "name": "stdout",
     "output_type": "stream",
     "text": [
      "personal weapons (hands, feet, teeth, etc.)\n"
     ]
    },
    {
     "name": "stderr",
     "output_type": "stream",
     "text": [
      "/var/folders/cs/6tsmkts96lqgd7z7tz4b521sl4vb6k/T/ipykernel_72347/4013972593.py:33: SettingWithCopyWarning: \n",
      "A value is trying to be set on a copy of a slice from a DataFrame.\n",
      "Try using .loc[row_indexer,col_indexer] = value instead\n",
      "\n",
      "See the caveats in the documentation: https://pandas.pydata.org/pandas-docs/stable/user_guide/indexing.html#returning-a-view-versus-a-copy\n",
      "  offense_yr_oris[weapon] = make_weapon_flag(offense_yr_oris, weapon)\n"
     ]
    },
    {
     "name": "stdout",
     "output_type": "stream",
     "text": [
      "none\n"
     ]
    },
    {
     "name": "stderr",
     "output_type": "stream",
     "text": [
      "/var/folders/cs/6tsmkts96lqgd7z7tz4b521sl4vb6k/T/ipykernel_72347/4013972593.py:33: SettingWithCopyWarning: \n",
      "A value is trying to be set on a copy of a slice from a DataFrame.\n",
      "Try using .loc[row_indexer,col_indexer] = value instead\n",
      "\n",
      "See the caveats in the documentation: https://pandas.pydata.org/pandas-docs/stable/user_guide/indexing.html#returning-a-view-versus-a-copy\n",
      "  offense_yr_oris[weapon] = make_weapon_flag(offense_yr_oris, weapon)\n"
     ]
    },
    {
     "name": "stdout",
     "output_type": "stream",
     "text": [
      "motor vehicle\n"
     ]
    },
    {
     "name": "stderr",
     "output_type": "stream",
     "text": [
      "/var/folders/cs/6tsmkts96lqgd7z7tz4b521sl4vb6k/T/ipykernel_72347/4013972593.py:33: SettingWithCopyWarning: \n",
      "A value is trying to be set on a copy of a slice from a DataFrame.\n",
      "Try using .loc[row_indexer,col_indexer] = value instead\n",
      "\n",
      "See the caveats in the documentation: https://pandas.pydata.org/pandas-docs/stable/user_guide/indexing.html#returning-a-view-versus-a-copy\n",
      "  offense_yr_oris[weapon] = make_weapon_flag(offense_yr_oris, weapon)\n"
     ]
    },
    {
     "name": "stdout",
     "output_type": "stream",
     "text": [
      "knife/cutting instrument (ice pick, screwdriver, ax, etc.)\n"
     ]
    },
    {
     "name": "stderr",
     "output_type": "stream",
     "text": [
      "/var/folders/cs/6tsmkts96lqgd7z7tz4b521sl4vb6k/T/ipykernel_72347/4013972593.py:33: SettingWithCopyWarning: \n",
      "A value is trying to be set on a copy of a slice from a DataFrame.\n",
      "Try using .loc[row_indexer,col_indexer] = value instead\n",
      "\n",
      "See the caveats in the documentation: https://pandas.pydata.org/pandas-docs/stable/user_guide/indexing.html#returning-a-view-versus-a-copy\n",
      "  offense_yr_oris[weapon] = make_weapon_flag(offense_yr_oris, weapon)\n"
     ]
    },
    {
     "name": "stdout",
     "output_type": "stream",
     "text": [
      "shotgun\n"
     ]
    },
    {
     "name": "stderr",
     "output_type": "stream",
     "text": [
      "/var/folders/cs/6tsmkts96lqgd7z7tz4b521sl4vb6k/T/ipykernel_72347/4013972593.py:33: SettingWithCopyWarning: \n",
      "A value is trying to be set on a copy of a slice from a DataFrame.\n",
      "Try using .loc[row_indexer,col_indexer] = value instead\n",
      "\n",
      "See the caveats in the documentation: https://pandas.pydata.org/pandas-docs/stable/user_guide/indexing.html#returning-a-view-versus-a-copy\n",
      "  offense_yr_oris[weapon] = make_weapon_flag(offense_yr_oris, weapon)\n"
     ]
    },
    {
     "name": "stdout",
     "output_type": "stream",
     "text": [
      "handgun\n"
     ]
    },
    {
     "name": "stderr",
     "output_type": "stream",
     "text": [
      "/var/folders/cs/6tsmkts96lqgd7z7tz4b521sl4vb6k/T/ipykernel_72347/4013972593.py:33: SettingWithCopyWarning: \n",
      "A value is trying to be set on a copy of a slice from a DataFrame.\n",
      "Try using .loc[row_indexer,col_indexer] = value instead\n",
      "\n",
      "See the caveats in the documentation: https://pandas.pydata.org/pandas-docs/stable/user_guide/indexing.html#returning-a-view-versus-a-copy\n",
      "  offense_yr_oris[weapon] = make_weapon_flag(offense_yr_oris, weapon)\n"
     ]
    },
    {
     "name": "stdout",
     "output_type": "stream",
     "text": [
      "rifle\n"
     ]
    },
    {
     "name": "stderr",
     "output_type": "stream",
     "text": [
      "/var/folders/cs/6tsmkts96lqgd7z7tz4b521sl4vb6k/T/ipykernel_72347/4013972593.py:33: SettingWithCopyWarning: \n",
      "A value is trying to be set on a copy of a slice from a DataFrame.\n",
      "Try using .loc[row_indexer,col_indexer] = value instead\n",
      "\n",
      "See the caveats in the documentation: https://pandas.pydata.org/pandas-docs/stable/user_guide/indexing.html#returning-a-view-versus-a-copy\n",
      "  offense_yr_oris[weapon] = make_weapon_flag(offense_yr_oris, weapon)\n"
     ]
    },
    {
     "name": "stdout",
     "output_type": "stream",
     "text": [
      "firearm (type not stated)\n"
     ]
    },
    {
     "name": "stderr",
     "output_type": "stream",
     "text": [
      "/var/folders/cs/6tsmkts96lqgd7z7tz4b521sl4vb6k/T/ipykernel_72347/4013972593.py:33: SettingWithCopyWarning: \n",
      "A value is trying to be set on a copy of a slice from a DataFrame.\n",
      "Try using .loc[row_indexer,col_indexer] = value instead\n",
      "\n",
      "See the caveats in the documentation: https://pandas.pydata.org/pandas-docs/stable/user_guide/indexing.html#returning-a-view-versus-a-copy\n",
      "  offense_yr_oris[weapon] = make_weapon_flag(offense_yr_oris, weapon)\n"
     ]
    },
    {
     "name": "stdout",
     "output_type": "stream",
     "text": [
      "unknown\n"
     ]
    },
    {
     "name": "stderr",
     "output_type": "stream",
     "text": [
      "/var/folders/cs/6tsmkts96lqgd7z7tz4b521sl4vb6k/T/ipykernel_72347/4013972593.py:33: SettingWithCopyWarning: \n",
      "A value is trying to be set on a copy of a slice from a DataFrame.\n",
      "Try using .loc[row_indexer,col_indexer] = value instead\n",
      "\n",
      "See the caveats in the documentation: https://pandas.pydata.org/pandas-docs/stable/user_guide/indexing.html#returning-a-view-versus-a-copy\n",
      "  offense_yr_oris[weapon] = make_weapon_flag(offense_yr_oris, weapon)\n"
     ]
    },
    {
     "name": "stdout",
     "output_type": "stream",
     "text": [
      "other\n"
     ]
    },
    {
     "name": "stderr",
     "output_type": "stream",
     "text": [
      "/var/folders/cs/6tsmkts96lqgd7z7tz4b521sl4vb6k/T/ipykernel_72347/4013972593.py:33: SettingWithCopyWarning: \n",
      "A value is trying to be set on a copy of a slice from a DataFrame.\n",
      "Try using .loc[row_indexer,col_indexer] = value instead\n",
      "\n",
      "See the caveats in the documentation: https://pandas.pydata.org/pandas-docs/stable/user_guide/indexing.html#returning-a-view-versus-a-copy\n",
      "  offense_yr_oris[weapon] = make_weapon_flag(offense_yr_oris, weapon)\n"
     ]
    },
    {
     "name": "stdout",
     "output_type": "stream",
     "text": [
      "blunt object (club, hammer, etc.)\n"
     ]
    },
    {
     "name": "stderr",
     "output_type": "stream",
     "text": [
      "/var/folders/cs/6tsmkts96lqgd7z7tz4b521sl4vb6k/T/ipykernel_72347/4013972593.py:33: SettingWithCopyWarning: \n",
      "A value is trying to be set on a copy of a slice from a DataFrame.\n",
      "Try using .loc[row_indexer,col_indexer] = value instead\n",
      "\n",
      "See the caveats in the documentation: https://pandas.pydata.org/pandas-docs/stable/user_guide/indexing.html#returning-a-view-versus-a-copy\n",
      "  offense_yr_oris[weapon] = make_weapon_flag(offense_yr_oris, weapon)\n"
     ]
    },
    {
     "name": "stdout",
     "output_type": "stream",
     "text": [
      "drugs/narcotics/sleeping pills\n"
     ]
    },
    {
     "name": "stderr",
     "output_type": "stream",
     "text": [
      "/var/folders/cs/6tsmkts96lqgd7z7tz4b521sl4vb6k/T/ipykernel_72347/4013972593.py:33: SettingWithCopyWarning: \n",
      "A value is trying to be set on a copy of a slice from a DataFrame.\n",
      "Try using .loc[row_indexer,col_indexer] = value instead\n",
      "\n",
      "See the caveats in the documentation: https://pandas.pydata.org/pandas-docs/stable/user_guide/indexing.html#returning-a-view-versus-a-copy\n",
      "  offense_yr_oris[weapon] = make_weapon_flag(offense_yr_oris, weapon)\n"
     ]
    },
    {
     "name": "stdout",
     "output_type": "stream",
     "text": [
      "other firearm\n"
     ]
    },
    {
     "name": "stderr",
     "output_type": "stream",
     "text": [
      "/var/folders/cs/6tsmkts96lqgd7z7tz4b521sl4vb6k/T/ipykernel_72347/4013972593.py:33: SettingWithCopyWarning: \n",
      "A value is trying to be set on a copy of a slice from a DataFrame.\n",
      "Try using .loc[row_indexer,col_indexer] = value instead\n",
      "\n",
      "See the caveats in the documentation: https://pandas.pydata.org/pandas-docs/stable/user_guide/indexing.html#returning-a-view-versus-a-copy\n",
      "  offense_yr_oris[weapon] = make_weapon_flag(offense_yr_oris, weapon)\n"
     ]
    },
    {
     "name": "stdout",
     "output_type": "stream",
     "text": [
      "asphyxiation (by drowning, strangulation, suffocation, gas, etc.)\n"
     ]
    },
    {
     "name": "stderr",
     "output_type": "stream",
     "text": [
      "/var/folders/cs/6tsmkts96lqgd7z7tz4b521sl4vb6k/T/ipykernel_72347/4013972593.py:33: SettingWithCopyWarning: \n",
      "A value is trying to be set on a copy of a slice from a DataFrame.\n",
      "Try using .loc[row_indexer,col_indexer] = value instead\n",
      "\n",
      "See the caveats in the documentation: https://pandas.pydata.org/pandas-docs/stable/user_guide/indexing.html#returning-a-view-versus-a-copy\n",
      "  offense_yr_oris[weapon] = make_weapon_flag(offense_yr_oris, weapon)\n"
     ]
    },
    {
     "name": "stdout",
     "output_type": "stream",
     "text": [
      "explosives\n"
     ]
    },
    {
     "name": "stderr",
     "output_type": "stream",
     "text": [
      "/var/folders/cs/6tsmkts96lqgd7z7tz4b521sl4vb6k/T/ipykernel_72347/4013972593.py:33: SettingWithCopyWarning: \n",
      "A value is trying to be set on a copy of a slice from a DataFrame.\n",
      "Try using .loc[row_indexer,col_indexer] = value instead\n",
      "\n",
      "See the caveats in the documentation: https://pandas.pydata.org/pandas-docs/stable/user_guide/indexing.html#returning-a-view-versus-a-copy\n",
      "  offense_yr_oris[weapon] = make_weapon_flag(offense_yr_oris, weapon)\n"
     ]
    },
    {
     "name": "stdout",
     "output_type": "stream",
     "text": [
      "poison (include gas)\n"
     ]
    },
    {
     "name": "stderr",
     "output_type": "stream",
     "text": [
      "/var/folders/cs/6tsmkts96lqgd7z7tz4b521sl4vb6k/T/ipykernel_72347/4013972593.py:33: SettingWithCopyWarning: \n",
      "A value is trying to be set on a copy of a slice from a DataFrame.\n",
      "Try using .loc[row_indexer,col_indexer] = value instead\n",
      "\n",
      "See the caveats in the documentation: https://pandas.pydata.org/pandas-docs/stable/user_guide/indexing.html#returning-a-view-versus-a-copy\n",
      "  offense_yr_oris[weapon] = make_weapon_flag(offense_yr_oris, weapon)\n"
     ]
    },
    {
     "name": "stdout",
     "output_type": "stream",
     "text": [
      "fire/incendiary device\n",
      "            ori                ucr_offense_code  \\\n",
      "4242  AR0010000        drug/narcotic violations   \n",
      "4243  AR0010000                  simple assault   \n",
      "4244  AR0010000  burglary/breaking and entering   \n",
      "4245  AR0010000               all other larceny   \n",
      "4246  AR0010000  burglary/breaking and entering   \n",
      "\n",
      "                     type_weapon_force_involved_1  \\\n",
      "4242                                                \n",
      "4243  personal weapons (hands, feet, teeth, etc.)   \n",
      "4244                                                \n",
      "4245                                                \n",
      "4246                                                \n",
      "\n",
      "     automatic_weapon_indicator_1 type_weapon_force_involved_2  \\\n",
      "4242                                                             \n",
      "4243                                                             \n",
      "4244                                                             \n",
      "4245                                                             \n",
      "4246                                                             \n",
      "\n",
      "     automatic_weapon_indicator_2 type_weapon_force_involved_3  \\\n",
      "4242                                                             \n",
      "4243                                                             \n",
      "4244                                                             \n",
      "4245                                                             \n",
      "4246                                                             \n",
      "\n",
      "     automatic_weapon_indicator_3   location_type     unique_incident_id  \\\n",
      "4242                                  jail/prison  AR0010000 D-0Q-5CMD I   \n",
      "4243                               residence/home  AR0010000 D-0Q-9CMD I   \n",
      "4244                               residence/home  AR0010000 D-0Q-HCMD I   \n",
      "4245                               residence/home  AR0010000 D-0Q-KCMD I   \n",
      "4246                               residence/home  AR0010000 D-0Q-QCMD I   \n",
      "\n",
      "            personal weapons (hands, feet, teeth, etc.)   none  motor vehicle  \\\n",
      "4242  True                                        False  False          False   \n",
      "4243  True                                         True  False          False   \n",
      "4244  True                                        False  False          False   \n",
      "4245  True                                        False  False          False   \n",
      "4246  True                                        False  False          False   \n",
      "\n",
      "      knife/cutting instrument (ice pick, screwdriver, ax, etc.)  shotgun  \\\n",
      "4242                                              False             False   \n",
      "4243                                              False             False   \n",
      "4244                                              False             False   \n",
      "4245                                              False             False   \n",
      "4246                                              False             False   \n",
      "\n",
      "      handgun  rifle  firearm (type not stated)  unknown  other  \\\n",
      "4242    False  False                      False    False  False   \n",
      "4243    False  False                      False    False  False   \n",
      "4244    False  False                      False    False  False   \n",
      "4245    False  False                      False    False  False   \n",
      "4246    False  False                      False    False  False   \n",
      "\n",
      "      blunt object (club, hammer, etc.)  drugs/narcotics/sleeping pills  \\\n",
      "4242                              False                           False   \n",
      "4243                              False                           False   \n",
      "4244                              False                           False   \n",
      "4245                              False                           False   \n",
      "4246                              False                           False   \n",
      "\n",
      "      other firearm  \\\n",
      "4242          False   \n",
      "4243          False   \n",
      "4244          False   \n",
      "4245          False   \n",
      "4246          False   \n",
      "\n",
      "      asphyxiation (by drowning, strangulation, suffocation, gas, etc.)  \\\n",
      "4242                                              False                   \n",
      "4243                                              False                   \n",
      "4244                                              False                   \n",
      "4245                                              False                   \n",
      "4246                                              False                   \n",
      "\n",
      "      explosives  poison (include gas)  fire/incendiary device  firearm  \n",
      "4242       False                 False                   False    False  \n",
      "4243       False                 False                   False    False  \n",
      "4244       False                 False                   False    False  \n",
      "4245       False                 False                   False    False  \n",
      "4246       False                 False                   False    False  \n"
     ]
    },
    {
     "name": "stderr",
     "output_type": "stream",
     "text": [
      "/var/folders/cs/6tsmkts96lqgd7z7tz4b521sl4vb6k/T/ipykernel_72347/4013972593.py:33: SettingWithCopyWarning: \n",
      "A value is trying to be set on a copy of a slice from a DataFrame.\n",
      "Try using .loc[row_indexer,col_indexer] = value instead\n",
      "\n",
      "See the caveats in the documentation: https://pandas.pydata.org/pandas-docs/stable/user_guide/indexing.html#returning-a-view-versus-a-copy\n",
      "  offense_yr_oris[weapon] = make_weapon_flag(offense_yr_oris, weapon)\n",
      "/var/folders/cs/6tsmkts96lqgd7z7tz4b521sl4vb6k/T/ipykernel_72347/4013972593.py:35: SettingWithCopyWarning: \n",
      "A value is trying to be set on a copy of a slice from a DataFrame.\n",
      "Try using .loc[row_indexer,col_indexer] = value instead\n",
      "\n",
      "See the caveats in the documentation: https://pandas.pydata.org/pandas-docs/stable/user_guide/indexing.html#returning-a-view-versus-a-copy\n",
      "  offense_yr_oris['firearm'] = (offense_yr_oris[firearms].sum(axis=1) >= 1)\n"
     ]
    }
   ],
   "source": [
    "for year in range(start_yr, start_yr+1): \n",
    "    \n",
    "    off_year = clean_offenses_weapons(year)\n",
    "    \n",
    "    outfile_str = processed + \"weapons_\" + str(year) + \".parquet\"\n",
    "    off_year.to_parquet(outfile_str)\n",
    "    "
   ]
  },
  {
   "cell_type": "code",
   "execution_count": 1,
   "id": "ab4e65d2",
   "metadata": {},
   "outputs": [
    {
     "ename": "NameError",
     "evalue": "name 'off_year' is not defined",
     "output_type": "error",
     "traceback": [
      "\u001b[0;31m---------------------------------------------------------------------------\u001b[0m",
      "\u001b[0;31mNameError\u001b[0m                                 Traceback (most recent call last)",
      "Cell \u001b[0;32mIn [1], line 1\u001b[0m\n\u001b[0;32m----> 1\u001b[0m off_year[off_year\u001b[38;5;241m.\u001b[39mfirearm]\u001b[38;5;241m.\u001b[39mhead()\n",
      "\u001b[0;31mNameError\u001b[0m: name 'off_year' is not defined"
     ]
    }
   ],
   "source": [
    "off_year[off_year.firearm].head()"
   ]
  },
  {
   "cell_type": "code",
   "execution_count": null,
   "id": "0f58e9e8",
   "metadata": {},
   "outputs": [],
   "source": []
  }
 ],
 "metadata": {
  "kernelspec": {
   "display_name": "Python 3 (ipykernel)",
   "language": "python",
   "name": "python3"
  },
  "language_info": {
   "codemirror_mode": {
    "name": "ipython",
    "version": 3
   },
   "file_extension": ".py",
   "mimetype": "text/x-python",
   "name": "python",
   "nbconvert_exporter": "python",
   "pygments_lexer": "ipython3",
   "version": "3.9.6"
  }
 },
 "nbformat": 4,
 "nbformat_minor": 5
}
